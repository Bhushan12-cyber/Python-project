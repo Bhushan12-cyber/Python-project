{
 "cells": [
  {
   "cell_type": "markdown",
   "id": "489c2db2-2dd7-4ef0-b33e-c793b68b0d71",
   "metadata": {
    "jp-MarkdownHeadingCollapsed": true
   },
   "source": [
    "# Working with NumPy"
   ]
  },
  {
   "cell_type": "markdown",
   "id": "ed6bc631-0989-4414-abde-c3b08d808e73",
   "metadata": {},
   "source": [
    "#Question 1 "
   ]
  },
  {
   "cell_type": "code",
   "execution_count": 1,
   "id": "53689abe-acfa-4add-86b1-9b2141696239",
   "metadata": {},
   "outputs": [],
   "source": [
    "import numpy as np"
   ]
  },
  {
   "cell_type": "code",
   "execution_count": 2,
   "id": "a2f18828-c093-4f33-af27-2c428b2cca8e",
   "metadata": {},
   "outputs": [],
   "source": [
    "arr = np.arange(1,21)"
   ]
  },
  {
   "cell_type": "code",
   "execution_count": 3,
   "id": "6c33e318-1d6e-46d7-a6f5-d606b0c16ef5",
   "metadata": {},
   "outputs": [
    {
     "name": "stdout",
     "output_type": "stream",
     "text": [
      "10.5\n"
     ]
    }
   ],
   "source": [
    "print(np.mean(arr))"
   ]
  },
  {
   "cell_type": "code",
   "execution_count": 4,
   "id": "4fc404cc-ea6a-4048-bba8-6dff7dd3b12f",
   "metadata": {},
   "outputs": [
    {
     "name": "stdout",
     "output_type": "stream",
     "text": [
      "10.5\n"
     ]
    }
   ],
   "source": [
    "print(np.median(arr))"
   ]
  },
  {
   "cell_type": "code",
   "execution_count": 5,
   "id": "f4fcab69-763e-4587-9215-9f7c74da6829",
   "metadata": {},
   "outputs": [
    {
     "name": "stdout",
     "output_type": "stream",
     "text": [
      "5.766281297335398\n"
     ]
    }
   ],
   "source": [
    "print(np.std(arr))\n"
   ]
  },
  {
   "cell_type": "code",
   "execution_count": 6,
   "id": "53c2dd89-0b5d-40e0-abea-030a00025271",
   "metadata": {},
   "outputs": [
    {
     "name": "stdout",
     "output_type": "stream",
     "text": [
      "210\n"
     ]
    }
   ],
   "source": [
    "print(np.sum(arr))"
   ]
  },
  {
   "cell_type": "code",
   "execution_count": 7,
   "id": "7d85a750-c04f-46df-b871-205ac2731008",
   "metadata": {},
   "outputs": [],
   "source": [
    "ind = np.where(arr > 10)[0]"
   ]
  },
  {
   "cell_type": "code",
   "execution_count": 8,
   "id": "14deb3a9-6395-40b3-a3d3-3ca25bdeaf33",
   "metadata": {},
   "outputs": [
    {
     "name": "stdout",
     "output_type": "stream",
     "text": [
      "[10 11 12 13 14 15 16 17 18 19]\n"
     ]
    }
   ],
   "source": [
    "print(ind)"
   ]
  },
  {
   "cell_type": "markdown",
   "id": "8f956d5f-9b67-4952-b50f-38d44bf43736",
   "metadata": {},
   "source": [
    "#Question 2 "
   ]
  },
  {
   "cell_type": "code",
   "execution_count": 9,
   "id": "c535426d-edb8-47c6-87c1-ff7d4578ebdb",
   "metadata": {},
   "outputs": [],
   "source": [
    "arr2 = np.arange(1,17).reshape(4,4)"
   ]
  },
  {
   "cell_type": "code",
   "execution_count": 10,
   "id": "e8624325-a50c-4f64-8e74-9c8c9dd9cbb1",
   "metadata": {},
   "outputs": [
    {
     "name": "stdout",
     "output_type": "stream",
     "text": [
      "[[ 1  2  3  4]\n",
      " [ 5  6  7  8]\n",
      " [ 9 10 11 12]\n",
      " [13 14 15 16]]\n"
     ]
    }
   ],
   "source": [
    "print(arr2)"
   ]
  },
  {
   "cell_type": "code",
   "execution_count": 11,
   "id": "14459e5c-34bb-4df8-af2d-c300a2ab582f",
   "metadata": {},
   "outputs": [],
   "source": [
    "transpose = arr2.T"
   ]
  },
  {
   "cell_type": "code",
   "execution_count": 12,
   "id": "e7e49701-251e-485d-b140-fcb1754422eb",
   "metadata": {},
   "outputs": [
    {
     "name": "stdout",
     "output_type": "stream",
     "text": [
      "[[ 1  5  9 13]\n",
      " [ 2  6 10 14]\n",
      " [ 3  7 11 15]\n",
      " [ 4  8 12 16]]\n"
     ]
    }
   ],
   "source": [
    "print(transpose)"
   ]
  },
  {
   "cell_type": "code",
   "execution_count": 13,
   "id": "38e22f24-40c2-4f31-b56b-7c8244e2a89a",
   "metadata": {},
   "outputs": [],
   "source": [
    "row_sum = np.sum(arr2,axis = 1)\n",
    "col_sum = np.sum(arr2,axis = 0)"
   ]
  },
  {
   "cell_type": "code",
   "execution_count": 14,
   "id": "89adc3fa-950a-4667-90a9-351e5fb6faa7",
   "metadata": {},
   "outputs": [
    {
     "name": "stdout",
     "output_type": "stream",
     "text": [
      "Row_sum  [10 26 42 58]\n"
     ]
    }
   ],
   "source": [
    "print(\"Row_sum \", row_sum)"
   ]
  },
  {
   "cell_type": "code",
   "execution_count": 15,
   "id": "77bfee3e-8bfc-4fa9-a6b7-21a84f268697",
   "metadata": {},
   "outputs": [
    {
     "name": "stdout",
     "output_type": "stream",
     "text": [
      "Col_sum  [28 32 36 40]\n"
     ]
    }
   ],
   "source": [
    "print(\"Col_sum \", col_sum)"
   ]
  },
  {
   "cell_type": "code",
   "execution_count": 16,
   "id": "7bf11b91-c936-4c6a-b6ed-ba7f716d1d04",
   "metadata": {},
   "outputs": [],
   "source": [
    "arr3 = np.random.randint(1,21,size=(3,3))\n",
    "arr4 = np.random.randint(1,21,size=(3,3))"
   ]
  },
  {
   "cell_type": "code",
   "execution_count": 17,
   "id": "a37cd466-ed1b-4cc9-848f-e5495123d0de",
   "metadata": {},
   "outputs": [],
   "source": [
    "add = arr3 + arr4\n",
    "subs = arr3 - arr4\n",
    "mul = arr3 * arr4"
   ]
  },
  {
   "cell_type": "code",
   "execution_count": 18,
   "id": "c59f772a-67de-4684-a97f-06a74235977b",
   "metadata": {},
   "outputs": [
    {
     "name": "stdout",
     "output_type": "stream",
     "text": [
      "Addition\n",
      "  [[18 35 31]\n",
      " [32 22 27]\n",
      " [27 14 37]]\n",
      "Sunstraction\n",
      "  [[ 12   3  -3]\n",
      " [ -4 -16  -9]\n",
      " [  7   6  -3]]\n",
      "Multiplication\n",
      "  [[ 45 304 238]\n",
      " [252  57 162]\n",
      " [170  40 340]]\n"
     ]
    }
   ],
   "source": [
    "print(\"Addition\\n \",add)\n",
    "print(\"Sunstraction\\n \",subs)\n",
    "print(\"Multiplication\\n \",mul)"
   ]
  },
  {
   "cell_type": "code",
   "execution_count": 19,
   "id": "56dbdbb5-ad6e-456b-900a-fb7170d3963b",
   "metadata": {},
   "outputs": [
    {
     "name": "stdout",
     "output_type": "stream",
     "text": [
      "[[527 657 877]\n",
      " [186 317 472]\n",
      " [401 530 809]]\n"
     ]
    }
   ],
   "source": [
    "dot = np.dot(arr3,arr4)\n",
    "print(dot)"
   ]
  },
  {
   "cell_type": "code",
   "execution_count": 20,
   "id": "a5a631e3-bfd9-43df-8041-2e7775dd6453",
   "metadata": {},
   "outputs": [],
   "source": [
    "arr5 = np.arange(1,13).reshape(3,4)"
   ]
  },
  {
   "cell_type": "code",
   "execution_count": 21,
   "id": "e71a7ce6-938a-48e3-813b-8196aa7b8876",
   "metadata": {},
   "outputs": [],
   "source": [
    "slice = arr5[:2,-2:]"
   ]
  },
  {
   "cell_type": "code",
   "execution_count": 22,
   "id": "b8910b97-c00c-492a-82ea-c135a0b632c7",
   "metadata": {},
   "outputs": [
    {
     "name": "stdout",
     "output_type": "stream",
     "text": [
      "[[3 4]\n",
      " [7 8]]\n"
     ]
    }
   ],
   "source": [
    "print(slice)"
   ]
  },
  {
   "cell_type": "markdown",
   "id": "cece3458-74ec-4a61-a600-4e39eaf8cf21",
   "metadata": {
    "jp-MarkdownHeadingCollapsed": true
   },
   "source": [
    "# Working with Pandas"
   ]
  },
  {
   "cell_type": "code",
   "execution_count": 23,
   "id": "5a9a701f-e960-468c-b0f0-759ac0da2db1",
   "metadata": {},
   "outputs": [],
   "source": [
    "import pandas as pd"
   ]
  },
  {
   "cell_type": "code",
   "execution_count": 24,
   "id": "0b3e7fa4-ac98-4d2b-944a-ae4c7ba78990",
   "metadata": {},
   "outputs": [],
   "source": [
    "data = {\n",
    "      'Name': ['Alice', 'Bob', 'Charlie', 'Diana', 'Eve'],\n",
    "      'Age': [24, 27, 22, 32, 29],\n",
    "      'Department': ['HR', 'Finance', 'IT', 'Marketing', 'HR'],\n",
    "      'Salary': [45000, 54000, 50000, 62000, 47000]\n",
    "  }"
   ]
  },
  {
   "cell_type": "code",
   "execution_count": 26,
   "id": "6c923d6a-e75a-4f4b-817d-a642537be8a6",
   "metadata": {},
   "outputs": [],
   "source": [
    "df = pd.DataFrame(data)\n"
   ]
  },
  {
   "cell_type": "code",
   "execution_count": 34,
   "id": "622f6085-7dd4-4e4c-8daf-ca036d67ff67",
   "metadata": {},
   "outputs": [
    {
     "name": "stdout",
     "output_type": "stream",
     "text": [
      "First five rows :\n",
      "        Name  Age Department  Salary\n",
      "0    Alice   24         HR   45000\n",
      "1      Bob   27    Finance   54000\n",
      "2  Charlie   22         IT   50000\n",
      "3    Diana   32  Marketing   62000\n",
      "4      Eve   29         HR   47000\n"
     ]
    }
   ],
   "source": [
    "print(\"First five rows :\\n \",df.head(5))"
   ]
  },
  {
   "cell_type": "code",
   "execution_count": 35,
   "id": "a6dea7cb-7582-4a70-9e71-b67ddb4e2879",
   "metadata": {},
   "outputs": [
    {
     "data": {
      "text/html": [
       "<div>\n",
       "<style scoped>\n",
       "    .dataframe tbody tr th:only-of-type {\n",
       "        vertical-align: middle;\n",
       "    }\n",
       "\n",
       "    .dataframe tbody tr th {\n",
       "        vertical-align: top;\n",
       "    }\n",
       "\n",
       "    .dataframe thead th {\n",
       "        text-align: right;\n",
       "    }\n",
       "</style>\n",
       "<table border=\"1\" class=\"dataframe\">\n",
       "  <thead>\n",
       "    <tr style=\"text-align: right;\">\n",
       "      <th></th>\n",
       "      <th>Age</th>\n",
       "      <th>Salary</th>\n",
       "    </tr>\n",
       "  </thead>\n",
       "  <tbody>\n",
       "    <tr>\n",
       "      <th>count</th>\n",
       "      <td>5.000000</td>\n",
       "      <td>5.000000</td>\n",
       "    </tr>\n",
       "    <tr>\n",
       "      <th>mean</th>\n",
       "      <td>26.800000</td>\n",
       "      <td>51600.000000</td>\n",
       "    </tr>\n",
       "    <tr>\n",
       "      <th>std</th>\n",
       "      <td>3.962323</td>\n",
       "      <td>6730.527468</td>\n",
       "    </tr>\n",
       "    <tr>\n",
       "      <th>min</th>\n",
       "      <td>22.000000</td>\n",
       "      <td>45000.000000</td>\n",
       "    </tr>\n",
       "    <tr>\n",
       "      <th>25%</th>\n",
       "      <td>24.000000</td>\n",
       "      <td>47000.000000</td>\n",
       "    </tr>\n",
       "    <tr>\n",
       "      <th>50%</th>\n",
       "      <td>27.000000</td>\n",
       "      <td>50000.000000</td>\n",
       "    </tr>\n",
       "    <tr>\n",
       "      <th>75%</th>\n",
       "      <td>29.000000</td>\n",
       "      <td>54000.000000</td>\n",
       "    </tr>\n",
       "    <tr>\n",
       "      <th>max</th>\n",
       "      <td>32.000000</td>\n",
       "      <td>62000.000000</td>\n",
       "    </tr>\n",
       "  </tbody>\n",
       "</table>\n",
       "</div>"
      ],
      "text/plain": [
       "             Age        Salary\n",
       "count   5.000000      5.000000\n",
       "mean   26.800000  51600.000000\n",
       "std     3.962323   6730.527468\n",
       "min    22.000000  45000.000000\n",
       "25%    24.000000  47000.000000\n",
       "50%    27.000000  50000.000000\n",
       "75%    29.000000  54000.000000\n",
       "max    32.000000  62000.000000"
      ]
     },
     "execution_count": 35,
     "metadata": {},
     "output_type": "execute_result"
    }
   ],
   "source": [
    "df[['Age','Salary']].describe()"
   ]
  },
  {
   "cell_type": "code",
   "execution_count": 32,
   "id": "c6e0f14f-74ea-44dc-a202-0ca8c2e69d35",
   "metadata": {},
   "outputs": [],
   "source": [
    "avg_sal = df[df['Department'] == 'HR']['Salary'].mean()"
   ]
  },
  {
   "cell_type": "code",
   "execution_count": 36,
   "id": "98f80066-0810-4812-b1c2-3791c97ccefe",
   "metadata": {},
   "outputs": [
    {
     "name": "stdout",
     "output_type": "stream",
     "text": [
      "Average Salary :  46000.0\n"
     ]
    }
   ],
   "source": [
    "print('Average Salary : ' , avg_sal)"
   ]
  },
  {
   "cell_type": "code",
   "execution_count": 37,
   "id": "80ab0886-c6dd-41cb-b3be-45761202aab3",
   "metadata": {},
   "outputs": [],
   "source": [
    "df['Bonus'] = df['Salary']*0.10"
   ]
  },
  {
   "cell_type": "code",
   "execution_count": 38,
   "id": "0948da69-8f66-4acb-a59c-4a0b37b58cd2",
   "metadata": {},
   "outputs": [
    {
     "data": {
      "text/html": [
       "<div>\n",
       "<style scoped>\n",
       "    .dataframe tbody tr th:only-of-type {\n",
       "        vertical-align: middle;\n",
       "    }\n",
       "\n",
       "    .dataframe tbody tr th {\n",
       "        vertical-align: top;\n",
       "    }\n",
       "\n",
       "    .dataframe thead th {\n",
       "        text-align: right;\n",
       "    }\n",
       "</style>\n",
       "<table border=\"1\" class=\"dataframe\">\n",
       "  <thead>\n",
       "    <tr style=\"text-align: right;\">\n",
       "      <th></th>\n",
       "      <th>Name</th>\n",
       "      <th>Age</th>\n",
       "      <th>Department</th>\n",
       "      <th>Salary</th>\n",
       "      <th>Bonus</th>\n",
       "    </tr>\n",
       "  </thead>\n",
       "  <tbody>\n",
       "    <tr>\n",
       "      <th>0</th>\n",
       "      <td>Alice</td>\n",
       "      <td>24</td>\n",
       "      <td>HR</td>\n",
       "      <td>45000</td>\n",
       "      <td>4500.0</td>\n",
       "    </tr>\n",
       "    <tr>\n",
       "      <th>1</th>\n",
       "      <td>Bob</td>\n",
       "      <td>27</td>\n",
       "      <td>Finance</td>\n",
       "      <td>54000</td>\n",
       "      <td>5400.0</td>\n",
       "    </tr>\n",
       "    <tr>\n",
       "      <th>2</th>\n",
       "      <td>Charlie</td>\n",
       "      <td>22</td>\n",
       "      <td>IT</td>\n",
       "      <td>50000</td>\n",
       "      <td>5000.0</td>\n",
       "    </tr>\n",
       "    <tr>\n",
       "      <th>3</th>\n",
       "      <td>Diana</td>\n",
       "      <td>32</td>\n",
       "      <td>Marketing</td>\n",
       "      <td>62000</td>\n",
       "      <td>6200.0</td>\n",
       "    </tr>\n",
       "    <tr>\n",
       "      <th>4</th>\n",
       "      <td>Eve</td>\n",
       "      <td>29</td>\n",
       "      <td>HR</td>\n",
       "      <td>47000</td>\n",
       "      <td>4700.0</td>\n",
       "    </tr>\n",
       "  </tbody>\n",
       "</table>\n",
       "</div>"
      ],
      "text/plain": [
       "      Name  Age Department  Salary   Bonus\n",
       "0    Alice   24         HR   45000  4500.0\n",
       "1      Bob   27    Finance   54000  5400.0\n",
       "2  Charlie   22         IT   50000  5000.0\n",
       "3    Diana   32  Marketing   62000  6200.0\n",
       "4      Eve   29         HR   47000  4700.0"
      ]
     },
     "execution_count": 38,
     "metadata": {},
     "output_type": "execute_result"
    }
   ],
   "source": [
    "df.head()"
   ]
  },
  {
   "cell_type": "markdown",
   "id": "8e0e5e17-898e-4260-9ecb-7ea1339d26b6",
   "metadata": {},
   "source": [
    "age_filter = df[(df['Age'] > 25) & (df['Age'] < 30)]\n",
    "print(age_filter)"
   ]
  },
  {
   "cell_type": "code",
   "execution_count": 42,
   "id": "e127cdea-0899-4633-b092-d7268fe82991",
   "metadata": {},
   "outputs": [
    {
     "name": "stdout",
     "output_type": "stream",
     "text": [
      "Average salary by department\n",
      "    Department   Salary\n",
      "0    Finance  54000.0\n",
      "1         HR  46000.0\n",
      "2         IT  50000.0\n",
      "3  Marketing  62000.0\n"
     ]
    }
   ],
   "source": [
    "avg_sal_by_dept = df.groupby('Department')['Salary'].mean().reset_index()\n",
    "print(\"Average salary by department\\n \", avg_sal_by_dept)"
   ]
  },
  {
   "cell_type": "code",
   "execution_count": 44,
   "id": "516d9a7b-9b68-4268-8046-7169eddc3abb",
   "metadata": {},
   "outputs": [
    {
     "name": "stdout",
     "output_type": "stream",
     "text": [
      "Salary sorted in ascending \n",
      "       Name  Age Department  Salary   Bonus\n",
      "0    Alice   24         HR   45000  4500.0\n",
      "4      Eve   29         HR   47000  4700.0\n",
      "2  Charlie   22         IT   50000  5000.0\n",
      "1      Bob   27    Finance   54000  5400.0\n",
      "3    Diana   32  Marketing   62000  6200.0\n"
     ]
    }
   ],
   "source": [
    "sal_sort = df.sort_values(by ='Salary')\n",
    "print(\"Salary sorted in ascending \\n\" , sal_sort)"
   ]
  },
  {
   "cell_type": "code",
   "execution_count": 45,
   "id": "364a5d16-9e3f-4c4f-bfd0-b34370a26f90",
   "metadata": {},
   "outputs": [],
   "source": [
    "sal_sort.to_csv(\"salary_sort.csv\",index =False)"
   ]
  },
  {
   "cell_type": "markdown",
   "id": "29dca6a4-477b-46e4-b800-0c78ac6b7d6f",
   "metadata": {
    "jp-MarkdownHeadingCollapsed": true
   },
   "source": [
    "# Working with Matplotlib "
   ]
  },
  {
   "cell_type": "code",
   "execution_count": 46,
   "id": "bb2c3d0f-2867-423a-b1d5-fc7ffc31d4f1",
   "metadata": {},
   "outputs": [],
   "source": [
    "import matplotlib.pyplot as plt"
   ]
  },
  {
   "cell_type": "code",
   "execution_count": 47,
   "id": "4e3bd546-7f76-42d8-b596-3eab4d86e989",
   "metadata": {},
   "outputs": [],
   "source": [
    "x = [1, 2, 3, 4, 5]\n",
    "y = [10, 15, 25, 30, 50]"
   ]
  },
  {
   "cell_type": "code",
   "execution_count": 48,
   "id": "ecfb7d5c-0774-4721-b23c-92f42ae332e8",
   "metadata": {},
   "outputs": [
    {
     "data": {
      "image/png": "[encoded data removed]",
      "text/plain": [
       "<Figure size 640x480 with 1 Axes>"
      ]
     },
     "metadata": {},
     "output_type": "display_data"
    }
   ],
   "source": [
    "plt.plot(x,y,color='blue')\n",
    "plt.xlabel(\"X-axis\")\n",
    "plt.ylabel(\"Y-axis\")\n",
    "plt.grid(True)\n",
    "plt.show()"
   ]
  },
  {
   "cell_type": "code",
   "execution_count": 50,
   "id": "30af9618-137a-4133-9987-25890a9d4ab3",
   "metadata": {},
   "outputs": [],
   "source": [
    "students = ['John', 'Jane', 'Alice', 'Bob']\n",
    "marks = [75, 85, 60, 90]"
   ]
  },
  {
   "cell_type": "code",
   "execution_count": 57,
   "id": "04194e72-d5fe-4e72-bf1f-dd1c48890463",
   "metadata": {},
   "outputs": [
    {
     "data": {
      "image/png": "[encoded data removed]",
      "text/plain": [
       "<Figure size 640x480 with 1 Axes>"
      ]
     },
     "metadata": {},
     "output_type": "display_data"
    }
   ],
   "source": [
    "plt.bar(students, marks, color=['skyblue', 'orange', 'green', 'red'])\n",
    "plt.xlabel(\"Student\")\n",
    "plt.ylabel(\"Marks\")\n",
    "plt.title(\"Student Vs Marks\")\n",
    "plt.tight_layout()\n",
    "plt.show()"
   ]
  },
  {
   "cell_type": "code",
   "execution_count": 60,
   "id": "ab6d4770-f492-4388-b6b9-d92632b7e3fd",
   "metadata": {},
   "outputs": [],
   "source": [
    "regions = ['North America', 'Europe', 'Asia', 'Others']\n",
    "revenue = [45, 25, 20, 10]\n",
    "explode = [0.1 if r == max(revenue) else 0 for r in revenue]"
   ]
  },
  {
   "cell_type": "code",
   "execution_count": 61,
   "id": "a6ee8076-3737-4e78-bd94-6d3f4765d2dd",
   "metadata": {},
   "outputs": [
    {
     "data": {
      "image/png": "[encoded data removed]",
      "text/plain": [
       "<Figure size 640x480 with 1 Axes>"
      ]
     },
     "metadata": {},
     "output_type": "display_data"
    }
   ],
   "source": [
    "plt.pie(revenue,labels = regions, explode=explode, shadow=True)\n",
    "plt.title(\"Revenue Distribution by Region\")\n",
    "plt.tight_layout()\n",
    "plt.show()"
   ]
  },
  {
   "cell_type": "code",
   "execution_count": 62,
   "id": "f5e28ead-715f-4672-bf63-b0db5f9dd84c",
   "metadata": {},
   "outputs": [],
   "source": [
    "data = np.random.randint(1,101,size=1000)"
   ]
  },
  {
   "cell_type": "code",
   "execution_count": 67,
   "id": "39126ae5-d8e3-463e-87b4-ee4d4743eae5",
   "metadata": {},
   "outputs": [
    {
     "data": {
      "image/png": "[encoded data removed]",
      "text/plain": [
       "<Figure size 640x480 with 1 Axes>"
      ]
     },
     "metadata": {},
     "output_type": "display_data"
    }
   ],
   "source": [
    "plt.hist(data,bins = 10,edgecolor = 'black')\n",
    "plt.title(\" frequency distribution of randomly generated\")\n",
    "plt.grid(True)"
   ]
  },
  {
   "cell_type": "code",
   "execution_count": null,
   "id": "726bd306-b1ff-47fd-9854-3b7b195c0b77",
   "metadata": {},
   "outputs": [],
   "source": []
  }
 ],
 "metadata": {
  "kernelspec": {
   "display_name": "Python 3 (ipykernel)",
   "language": "python",
   "name": "python3"
  },
  "language_info": {
   "codemirror_mode": {
    "name": "ipython",
    "version": 3
   },
   "file_extension": ".py",
   "mimetype": "text/x-python",
   "name": "python",
   "nbconvert_exporter": "python",
   "pygments_lexer": "ipython3",
   "version": "3.11.7"
  }
 },
 "nbformat": 4,
 "nbformat_minor": 5
}
